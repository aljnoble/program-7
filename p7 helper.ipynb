{
 "cells": [
  {
   "cell_type": "code",
   "execution_count": 3,
   "metadata": {
    "collapsed": false
   },
   "outputs": [
    {
     "name": "stdout",
     "output_type": "stream",
     "text": [
      "Overwriting level-core.lp\n"
     ]
    }
   ],
   "source": [
    "%%file level-core.lp\n",
    "\n",
    "#const width=10.\n",
    "\n",
    "param(\"width\",width).\n",
    "\n",
    "dim(0..width-1).\n",
    "\n",
    "tile((X,Y)) :- dim(X); dim(Y).\n",
    "    \n",
    "adj((X1,Y1),(X2,Y2)) :- \n",
    "    tile((X1,Y1));\n",
    "    tile((X2,Y2));\n",
    "    |X1-X2| + |Y1-Y2| == 1.\n",
    "    \n",
    "start((0,0)).\n",
    "finish((width-1,width-1)).\n",
    "\n",
    "% tile at most one named sprite\n",
    "0 { sprite(T,(wall;gem;altar;trap)) } 1 :- tile(T).\n",
    "   \n",
    "% there is exactly one gem and one altar in the whole level\n",
    ":- not 1 { sprite(T,altar) } 1.\n",
    ":- not 1 { sprite(T,gem) } 1.\n",
    "    \n",
    "% there are between 2 and 5 traps in the level\n",
    ":- not 2 { sprite(T,trap) } 5.\n",
    "    \n",
    "% the start and finish are clear\n",
    ":- start(T); sprite(T,Name).\n",
    ":- finish(T); sprite(T,Name).\n",
    "    \n",
    "#show param/2.\n",
    "#show tile/1.\n",
    "#show sprite/2."
   ]
  },
  {
   "cell_type": "code",
   "execution_count": 4,
   "metadata": {
    "collapsed": false
   },
   "outputs": [
    {
     "name": "stdout",
     "output_type": "stream",
     "text": [
      "Overwriting level-style.lp\n"
     ]
    }
   ],
   "source": [
    "%%file level-style.lp\n",
    "\n",
    "% style: at least half of the map has wall sprites\n",
    ":- not (width*width)/2 { sprite(T,wall) }.\n",
    " \n",
    "% style: every wall has at least two neighboring walls\n",
    ":- sprite(T1,wall); not 2 { sprite(T2,wall) : adj(T1,T2) }.\n",
    "   \n",
    "% style: altars have no surrounding sprites for two steps\n",
    ":- sprite(T1,altar); not 0 { sprite(T2,S) : adj(T1,T2) } 0.\n",
    ":- sprite(T1,altar); not 0 { sprite(T3,S) : adj(T1,T2), adj(T2,T3), T1 != T3 } 0.\n",
    "    \n",
    "% style: altars have four adjacent tiles (not on a map border)\n",
    ":- sprite(T1,altar); not 4 { adj(T1,T2) }.\n",
    "    \n",
    "% style: gems have exactly three surrounding walls\n",
    ":- sprite(T1,gem); not 3 { sprite(T2,wall) : adj(T1,T2) } 3."
   ]
  },
  {
   "cell_type": "code",
   "execution_count": 18,
   "metadata": {
    "collapsed": false
   },
   "outputs": [
    {
     "name": "stdout",
     "output_type": "stream",
     "text": [
      "Overwriting level-sim.lp\n"
     ]
    }
   ],
   "source": [
    "%%file level-sim.lp\n",
    "\n",
    "% states:\n",
    "% 1 --> initial\n",
    "% 2 --> after picking up gem\n",
    "% 3 --> after putting gem in altar\n",
    "\n",
    "% you start in state 1\n",
    "\n",
    "touch(T,1) :- start(T).\n",
    "    \n",
    "special(T) :- sprite(T,gem).\n",
    "special(T) :- sprite(T,altar).\n",
    "\n",
    "% possible navigation paths\n",
    "{ step(T1,1,T2,2):adj(T1,T2) } 1 :- touch(T1,1); sprite(T1,gem).\n",
    "{ step(T1,2,T2,3):adj(T1,T2) } 1 :- touch(T1,2); sprite(T1,altar).\n",
    "{ step(T1,S,T2,S):adj(T1,T2) } 1 :- touch(T1,S); not special(T1); not finish(T1).\n",
    "\n",
    "touch(T2,S2) :- step(T1,S1,T2,S2).\n",
    "\n",
    "% you can't touch a wall in any state\n",
    ":- sprite(T,wall); touch(T,S).\n",
    "    \n",
    "% you can only touch a trap after picking up the gem\n",
    ":- sprite(T,trap); touch(T,S); S != 2.\n",
    "\n",
    "% the finish tile must be touched in state 3\n",
    "completed :- finish(T); touch(T,3).\n",
    ":- not completed.\n",
    "    \n",
    "#show touch/2."
   ]
  },
  {
   "cell_type": "code",
   "execution_count": 19,
   "metadata": {
    "collapsed": false
   },
   "outputs": [
    {
     "name": "stdout",
     "output_type": "stream",
     "text": [
      "Overwriting level-shortcuts.lp\n"
     ]
    }
   ],
   "source": [
    "%%file level-shortcuts.lp\n",
    "\n",
    "__level_design(sprite(T,Name)) :- sprite(T,Name).\n",
    "    \n",
    "wander :- width*width/2 { touch(T,S) }.\n",
    "trap_step :- touch(T,S); sprite(T,trap).\n",
    "a_trap_went_untouched :- sprite(T,trap); not touch(T,2).\n",
    "    \n",
    "__concept :- wander; trap_step; not a_trap_went_untouched.\n",
    "        \n",
    "        \n",
    "#show __level_design/1.\n",
    "#show __concept/0."
   ]
  },
  {
   "cell_type": "code",
   "execution_count": 10,
   "metadata": {
    "collapsed": false
   },
   "outputs": [
    {
     "name": "stdout",
     "output_type": "stream",
     "text": [
      "clingo version 4.5.0\r\n",
      "Reading from level-core.lp\r\n",
      "Solving...\r\n",
      "Answer: 1\r\n",
      "param(\"width\",10) tile((0,0)) tile((1,0)) tile((2,0)) tile((3,0)) tile((4,0)) tile((5,0)) tile((6,0)) tile((7,0)) tile((8,0)) tile((9,0)) tile((0,1)) tile((1,1)) tile((2,1)) tile((3,1)) tile((4,1)) tile((5,1)) tile((6,1)) tile((7,1)) tile((8,1)) tile((9,1)) tile((0,2)) tile((1,2)) tile((2,2)) tile((3,2)) tile((4,2)) tile((5,2)) tile((6,2)) tile((7,2)) tile((8,2)) tile((9,2)) tile((0,3)) tile((1,3)) tile((2,3)) tile((3,3)) tile((4,3)) tile((5,3)) tile((6,3)) tile((7,3)) tile((8,3)) tile((9,3)) tile((0,4)) tile((1,4)) tile((2,4)) tile((3,4)) tile((4,4)) tile((5,4)) tile((6,4)) tile((7,4)) tile((8,4)) tile((9,4)) tile((0,5)) tile((1,5)) tile((2,5)) tile((3,5)) tile((4,5)) tile((5,5)) tile((6,5)) tile((7,5)) tile((8,5)) tile((9,5)) tile((0,6)) tile((1,6)) tile((2,6)) tile((3,6)) tile((4,6)) tile((5,6)) tile((6,6)) tile((7,6)) tile((8,6)) tile((9,6)) tile((0,7)) tile((1,7)) tile((2,7)) tile((3,7)) tile((4,7)) tile((5,7)) tile((6,7)) tile((7,7)) tile((8,7)) tile((9,7)) tile((0,8)) tile((1,8)) tile((2,8)) tile((3,8)) tile((4,8)) tile((5,8)) tile((6,8)) tile((7,8)) tile((8,8)) tile((9,8)) tile((0,9)) tile((1,9)) tile((2,9)) tile((3,9)) tile((4,9)) tile((5,9)) tile((6,9)) tile((7,9)) tile((8,9)) tile((9,9)) sprite((4,0),altar) sprite((3,0),gem) sprite((1,0),trap) sprite((2,0),trap)\r\n",
      "SATISFIABLE\r\n",
      "\r\n",
      "Models       : 1+    \r\n",
      "Calls        : 1\r\n",
      "Time         : 0.011s (Solving: 0.00s 1st Model: 0.00s Unsat: 0.00s)\r\n",
      "CPU Time     : 0.010s\r\n"
     ]
    }
   ],
   "source": [
    "!./clingo-4.5.0-macos-10.9/clingo level-core.lp"
   ]
  },
  {
   "cell_type": "code",
   "execution_count": 11,
   "metadata": {
    "collapsed": true
   },
   "outputs": [],
   "source": [
    "!./clingo-4.5.0-macos-10.9/clingo level-core.lp level-style.lp level-sim.lp --sign-def=3 --outf=2 > example.json"
   ]
  },
  {
   "cell_type": "code",
   "execution_count": 19,
   "metadata": {
    "collapsed": false
   },
   "outputs": [
    {
     "name": "stdout",
     "output_type": "stream",
     "text": [
      "Overwriting p7_visualize.py\n"
     ]
    }
   ],
   "source": [
    "%%file p7_visualize.py\n",
    "\n",
    "import json\n",
    "import sys\n",
    "import collections\n",
    "\n",
    "def solve(*args):\n",
    "    \"\"\"Run clingo with the provided argument list and return the parsed JSON result.\"\"\"\n",
    "    \n",
    "    CLINGO = \"./clingo-4.5.0-macos-10.9/clingo\"\n",
    "    \n",
    "    clingo = subprocess.Popen(\n",
    "        [CLINGO, \"--outf=2\"] + list(args),\n",
    "        stdout=subprocess.PIPE,\n",
    "        stderr=subprocess.PIPE)\n",
    "    out, err = clingo.communicate()\n",
    "    if err:\n",
    "        print err\n",
    "        \n",
    "    return parse_json_result(out)\n",
    "\n",
    "def parse_json_result(out):\n",
    "    \"\"\"Parse the provided JSON text and extract a dict\n",
    "    representing the predicates described in the first solver result.\"\"\"\n",
    "\n",
    "    with open(out) as f:\n",
    "        result = json.load(f)\n",
    "    \n",
    "    assert len(result['Call']) > 0\n",
    "    assert len(result['Call'][0]['Witnesses']) > 0\n",
    "    \n",
    "    witness = result['Call'][0]['Witnesses'][0]['Value']\n",
    "    \n",
    "    class identitydefaultdict(collections.defaultdict):\n",
    "        def __missing__(self, key):\n",
    "            return key\n",
    "    \n",
    "    preds = collections.defaultdict(set)\n",
    "    env = identitydefaultdict()\n",
    "    \n",
    "    for atom in witness:\n",
    "        if '(' in atom:\n",
    "            left = atom.index('(')\n",
    "            functor = atom[:left]\n",
    "            arg_string = atom[left:]\n",
    "            try:\n",
    "                preds[functor].add( eval(arg_string, env) )\n",
    "            except TypeError:\n",
    "                pass # at least we tried...\n",
    "            \n",
    "        else:\n",
    "            preds[atom] = True\n",
    "    \n",
    "    return dict(preds)\n",
    "\n",
    "def solve_randomly(*args):\n",
    "    \"\"\"Like solve() but uses a random sign heuristic with a random seed.\"\"\"\n",
    "    args = list(args) + [\"--sign-def=3\",\"--seed=\"+str(random.randint(0,1<<30))]\n",
    "    return solve(*args) \n",
    "\n",
    "def render_ascii_dungeon(design):\n",
    "    \"\"\"Given a dict of predicates, return an ASCII-art depiction of the a dungeon.\"\"\"\n",
    "    \n",
    "    sprite = dict(design['sprite'])\n",
    "    param = dict(design['param'])\n",
    "    width = param['width']\n",
    "    glyph = dict(space='.', wall='W', altar='a', gem='g', trap='_')\n",
    "    block = ''.join([''.join([glyph[sprite.get((r,c),'space')]+' ' for c in range(width)])+'\\n' for r in range(width)])\n",
    "    return block\n",
    "\n",
    "def render_ascii_touch(design, target):\n",
    "    \"\"\"Given a dict of predicates, return an ASCII-art depiction where the player explored\n",
    "    while in the `target` state.\"\"\"\n",
    "    \n",
    "    touch = collections.defaultdict(lambda: '-')\n",
    "    for cell, state in design['touch']:\n",
    "        if state == target:\n",
    "            touch[cell] = str(target)\n",
    "    param = dict(design['param'])\n",
    "    width = param['width']\n",
    "    block = ''.join([''.join([str(touch[r,c])+' ' for c in range(width)])+'\\n' for r in range(width)])\n",
    "    return block\n",
    "\n",
    "def side_by_side(*blocks):\n",
    "    \"\"\"Horizontally merge two ASCII-art pictures.\"\"\"\n",
    "    \n",
    "    lines = []\n",
    "    for tup in zip(*map(lambda b: b.split('\\n'), blocks)):\n",
    "        lines.append(' '.join(tup))\n",
    "    return '\\n'.join(lines)\n",
    "\n",
    "map = parse_json_result(sys.argv[1])\n",
    "print render_ascii_dungeon(map)\n"
   ]
  },
  {
   "cell_type": "code",
   "execution_count": 20,
   "metadata": {
    "collapsed": false
   },
   "outputs": [
    {
     "name": "stdout",
     "output_type": "stream",
     "text": [
      ". _ _ _ . . . . . . \r\n",
      "W W W W g W W _ . . \r\n",
      "W W W W W W W . . . \r\n",
      "W W W W W W . . a . \r\n",
      "W W W W W W W . . . \r\n",
      "_ W W W W W W W . . \r\n",
      "W W W W W W W W W . \r\n",
      "W W W W W W W W W . \r\n",
      "W W W W W W W W W . \r\n",
      "W W W W W W W W W . \r\n",
      "\r\n"
     ]
    }
   ],
   "source": [
    "!python p7_visualize.py example.json"
   ]
  },
  {
   "cell_type": "code",
   "execution_count": 21,
   "metadata": {
    "collapsed": false
   },
   "outputs": [
    {
     "name": "stdout",
     "output_type": "stream",
     "text": [
      "Writing metaS.lp\n"
     ]
    }
   ],
   "source": [
    "%%file metaS.lp\n",
    "\n",
    "level_design(A) :- show(A,__level_design(_)).\n",
    "concept(A) :- show(A,__concept).\n",
    "\n",
    "criteria(0,0,0,A) :- level_design(A).\n",
    "criteria(0,0,0,-A) :- level_design(A).\n",
    "criteria(0,0,0,A) :- concept(A).\n",
    "\n",
    "optimize(0,0,incl).\n",
    "\n",
    ":- concept(A), not hold(A)."
   ]
  },
  {
   "cell_type": "code",
   "execution_count": 3,
   "metadata": {
    "collapsed": false
   },
   "outputs": [
    {
     "name": "stdout",
     "output_type": "stream",
     "text": [
      "metaD.lp:67:27-35: info: atom does not occur in any rule head:\r\n",
      "  scc(C,A)\r\n",
      "\r\n",
      "metaD.lp:67:57-66: info: atom does not occur in any rule head:\r\n",
      "  scc(C,A')\r\n",
      "\r\n",
      "metaD.lp:68:27-35: info: atom does not occur in any rule head:\r\n",
      "  scc(C,A)\r\n",
      "\r\n",
      "metaD.lp:68:57-66: info: atom does not occur in any rule head:\r\n",
      "  scc(C,A')\r\n",
      "\r\n",
      "metaD.lp:70:27-35: info: atom does not occur in any rule head:\r\n",
      "  scc(C,A)\r\n",
      "\r\n",
      "metaD.lp:71:27-35: info: atom does not occur in any rule head:\r\n",
      "  scc(C,A)\r\n",
      "\r\n",
      "metaD.lp:73:15-23: info: atom does not occur in any rule head:\r\n",
      "  scc(#X0,#P1)\r\n",
      "\r\n",
      "metaD.lp:73:31-39: info: atom does not occur in any rule head:\r\n",
      "  scc(C,A)\r\n",
      "\r\n",
      "metaD.lp:75:25-33: info: atom does not occur in any rule head:\r\n",
      "  scc(C,A)\r\n",
      "\r\n",
      "metaD.lp:78:58-70: info: atom does not occur in any rule head:\r\n",
      "  not scc(C,L)\r\n",
      "\r\n",
      "metaD.lp:79:62-70: info: atom does not occur in any rule head:\r\n",
      "  scc(C,L)\r\n",
      "\r\n",
      "metaD.lp:83:8-16: info: atom does not occur in any rule head:\r\n",
      "  scc(C,A)\r\n",
      "\r\n",
      "metaO.lp:71:37-50: info: atom does not occur in any rule head:\r\n",
      "  minimize(J,S)\r\n",
      "\r\n",
      "metaO.lp:71:87-99: info: atom does not occur in any rule head:\r\n",
      "  prefer(A,A')\r\n",
      "\r\n",
      "metaO.lp:74:93-105: info: atom does not occur in any rule head:\r\n",
      "  prefer(A,A')\r\n",
      "\r\n",
      "metaO.lp:75:72-84: info: atom does not occur in any rule head:\r\n",
      "  prefer(A',A)\r\n",
      "\r\n",
      "metaO.lp:75:86-102: info: atom does not occur in any rule head:\r\n",
      "  not prefer(A,A')\r\n",
      "\r\n",
      "metaO.lp:77:98-110: info: atom does not occur in any rule head:\r\n",
      "  prefer(A',A)\r\n",
      "\r\n",
      "metaO.lp:77:112-128: info: atom does not occur in any rule head:\r\n",
      "  not prefer(A,A')\r\n",
      "\r\n"
     ]
    }
   ],
   "source": [
    "!./clingo-4.5.0-macos-10.9/gringo level-core.lp level-style.lp level-sim.lp level-shortcuts.lp -c width=7 \\\n",
    "\t| ./clingo-4.5.0-macos-10.9/reify \\\n",
    "\t| ./clingo-4.5.0-macos-10.9/clingo - meta.lp metaD.lp metaO.lp metaS.lp \\\n",
    "\t\t--parallel-mode=4 --outf=2 > example_noshortcut.json"
   ]
  },
  {
   "cell_type": "code",
   "execution_count": 4,
   "metadata": {
    "collapsed": false
   },
   "outputs": [
    {
     "name": "stdout",
     "output_type": "stream",
     "text": [
      ". . . _ . . . \r\n",
      "_ W W . . a . \r\n",
      "W W W W . . . \r\n",
      "W W W W . . . \r\n",
      "W W g . . W W \r\n",
      "W W W W . W W \r\n",
      "W W W W . . . \r\n",
      "\r\n"
     ]
    }
   ],
   "source": [
    "!python p7_visualize.py example_noshortcut.json"
   ]
  },
  {
   "cell_type": "code",
   "execution_count": 21,
   "metadata": {
    "collapsed": false
   },
   "outputs": [
    {
     "name": "stdout",
     "output_type": "stream",
     "text": [
      "Overwriting p7_driver.py\n"
     ]
    }
   ],
   "source": [
    "%%file p7_driver.py\n",
    "import json\n",
    "import sys\n",
    "import collections\n",
    "import random\n",
    "import subprocess\n",
    "\n",
    "def solve(*args):\n",
    "    \"\"\"Run clingo with the provided argument list and return the parsed JSON result.\"\"\"\n",
    "    \n",
    "    CLINGO = \"./clingo-4.5.0-macos-10.9/clingo\"\n",
    "    \n",
    "    clingo = subprocess.Popen(\n",
    "        [CLINGO, \"--outf=2\"] + list(args),\n",
    "        stdout=subprocess.PIPE,\n",
    "        stderr=subprocess.PIPE)\n",
    "    out, err = clingo.communicate()\n",
    "    if err:\n",
    "        print err\n",
    "        \n",
    "    return parse_json_result(out)\n",
    "\n",
    "def parse_json_result(out):\n",
    "    \"\"\"Parse the provided JSON text and extract a dict\n",
    "    representing the predicates described in the first solver result.\"\"\"\n",
    "\n",
    "    result = json.loads(out)\n",
    "    \n",
    "    assert len(result['Call']) > 0\n",
    "    assert len(result['Call'][0]['Witnesses']) > 0\n",
    "    \n",
    "    witness = result['Call'][0]['Witnesses'][0]['Value']\n",
    "    \n",
    "    class identitydefaultdict(collections.defaultdict):\n",
    "        def __missing__(self, key):\n",
    "            return key\n",
    "    \n",
    "    preds = collections.defaultdict(set)\n",
    "    env = identitydefaultdict()\n",
    "    \n",
    "    for atom in witness:\n",
    "        if '(' in atom:\n",
    "            left = atom.index('(')\n",
    "            functor = atom[:left]\n",
    "            arg_string = atom[left:]\n",
    "            try:\n",
    "                preds[functor].add( eval(arg_string, env) )\n",
    "            except TypeError:\n",
    "                pass # at least we tried...\n",
    "            \n",
    "        else:\n",
    "            preds[atom] = True\n",
    "    \n",
    "    return dict(preds)\n",
    "\n",
    "def solve_randomly(*args):\n",
    "    \"\"\"Like solve() but uses a random sign heuristic with a random seed.\"\"\"\n",
    "    args = list(args) + [\"--sign-def=3\",\"--seed=\"+str(random.randint(0,1<<30))]\n",
    "    return solve(*args) \n",
    "\n",
    "def render_ascii_dungeon(design):\n",
    "    \"\"\"Given a dict of predicates, return an ASCII-art depiction of the a dungeon.\"\"\"\n",
    "    \n",
    "    sprite = dict(design['sprite'])\n",
    "    param = dict(design['param'])\n",
    "    width = param['width']\n",
    "    glyph = dict(space='.', wall='W', altar='a', gem='g', trap='_')\n",
    "    block = ''.join([''.join([glyph[sprite.get((r,c),'space')]+' ' for c in range(width)])+'\\n' for r in range(width)])\n",
    "    return block\n",
    "\n",
    "def render_ascii_touch(design, target):\n",
    "    \"\"\"Given a dict of predicates, return an ASCII-art depiction where the player explored\n",
    "    while in the `target` state.\"\"\"\n",
    "    \n",
    "    touch = collections.defaultdict(lambda: '-')\n",
    "    for cell, state in design['touch']:\n",
    "        if state == target:\n",
    "            touch[cell] = str(target)\n",
    "    param = dict(design['param'])\n",
    "    width = param['width']\n",
    "    block = ''.join([''.join([str(touch[r,c])+' ' for c in range(width)])+'\\n' for r in range(width)])\n",
    "    return block\n",
    "\n",
    "def side_by_side(*blocks):\n",
    "    \"\"\"Horizontally merge two ASCII-art pictures.\"\"\"\n",
    "    \n",
    "    lines = []\n",
    "    for tup in zip(*map(lambda b: b.split('\\n'), blocks)):\n",
    "        lines.append(' '.join(tup))\n",
    "    return '\\n'.join(lines)\n",
    "\n",
    "clingo = subprocess.Popen(\n",
    "    \"./gringo level-core.lp level-style.lp level-sim.lp level-shortcuts.lp -c width=7 | ./reify | ./clingo - meta.lp metaD.lp metaO.lp metaS.lp --parallel-mode=4 --outf=2\",\n",
    "    shell = True,\n",
    "    stdout=subprocess.PIPE,\n",
    "    stderr=subprocess.PIPE)\n",
    "out, err = clingo.communicate()\n",
    "if err:\n",
    "    print err\n",
    "    \n",
    "map = parse_json_result(out)\n",
    "print render_ascii_dungeon(map)"
   ]
  },
  {
   "cell_type": "code",
   "execution_count": 26,
   "metadata": {
    "collapsed": false
   },
   "outputs": [
    {
     "name": "stdout",
     "output_type": "stream",
     "text": [
      "metaD.lp:67:27-35: info: atom does not occur in any rule head:\r\n",
      "  scc(C,A)\r\n",
      "\r\n",
      "metaD.lp:67:57-66: info: atom does not occur in any rule head:\r\n",
      "  scc(C,A')\r\n",
      "\r\n",
      "metaD.lp:68:27-35: info: atom does not occur in any rule head:\r\n",
      "  scc(C,A)\r\n",
      "\r\n",
      "metaD.lp:68:57-66: info: atom does not occur in any rule head:\r\n",
      "  scc(C,A')\r\n",
      "\r\n",
      "metaD.lp:70:27-35: info: atom does not occur in any rule head:\r\n",
      "  scc(C,A)\r\n",
      "\r\n",
      "metaD.lp:71:27-35: info: atom does not occur in any rule head:\r\n",
      "  scc(C,A)\r\n",
      "\r\n",
      "metaD.lp:73:15-23: info: atom does not occur in any rule head:\r\n",
      "  scc(#X0,#P1)\r\n",
      "\r\n",
      "metaD.lp:73:31-39: info: atom does not occur in any rule head:\r\n",
      "  scc(C,A)\r\n",
      "\r\n",
      "metaD.lp:75:25-33: info: atom does not occur in any rule head:\r\n",
      "  scc(C,A)\r\n",
      "\r\n",
      "metaD.lp:78:58-70: info: atom does not occur in any rule head:\r\n",
      "  not scc(C,L)\r\n",
      "\r\n",
      "metaD.lp:79:62-70: info: atom does not occur in any rule head:\r\n",
      "  scc(C,L)\r\n",
      "\r\n",
      "metaD.lp:83:8-16: info: atom does not occur in any rule head:\r\n",
      "  scc(C,A)\r\n",
      "\r\n",
      "metaO.lp:71:37-50: info: atom does not occur in any rule head:\r\n",
      "  minimize(J,S)\r\n",
      "\r\n",
      "metaO.lp:71:87-99: info: atom does not occur in any rule head:\r\n",
      "  prefer(A,A')\r\n",
      "\r\n",
      "metaO.lp:74:93-105: info: atom does not occur in any rule head:\r\n",
      "  prefer(A,A')\r\n",
      "\r\n",
      "metaO.lp:75:72-84: info: atom does not occur in any rule head:\r\n",
      "  prefer(A',A)\r\n",
      "\r\n",
      "metaO.lp:75:86-102: info: atom does not occur in any rule head:\r\n",
      "  not prefer(A,A')\r\n",
      "\r\n",
      "metaO.lp:77:98-110: info: atom does not occur in any rule head:\r\n",
      "  prefer(A',A)\r\n",
      "\r\n",
      "metaO.lp:77:112-128: info: atom does not occur in any rule head:\r\n",
      "  not prefer(A,A')\r\n",
      "\r\n",
      "\r\n",
      ". . _ _ . . . \r\n",
      ". W W . . a . \r\n",
      ". W W W . . . \r\n",
      ". W W W W . . \r\n",
      ". . g W W W . \r\n",
      "W W W W W W . \r\n",
      "W W W W W W . \r\n",
      "\r\n"
     ]
    }
   ],
   "source": [
    "!python p7_driver.py"
   ]
  },
  {
   "cell_type": "code",
   "execution_count": null,
   "metadata": {
    "collapsed": true
   },
   "outputs": [],
   "source": []
  }
 ],
 "metadata": {
  "kernelspec": {
   "display_name": "Python 2",
   "language": "python",
   "name": "python2"
  },
  "language_info": {
   "codemirror_mode": {
    "name": "ipython",
    "version": 2
   },
   "file_extension": ".py",
   "mimetype": "text/x-python",
   "name": "python",
   "nbconvert_exporter": "python",
   "pygments_lexer": "ipython2",
   "version": "2.7.6"
  }
 },
 "nbformat": 4,
 "nbformat_minor": 0
}
